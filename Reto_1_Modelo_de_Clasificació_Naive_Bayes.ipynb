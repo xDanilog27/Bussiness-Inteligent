{
  "nbformat": 4,
  "nbformat_minor": 0,
  "metadata": {
    "colab": {
      "provenance": [],
      "authorship_tag": "ABX9TyNaLLM1E4TI5K8qAGh6J6WW",
      "include_colab_link": true
    },
    "kernelspec": {
      "name": "python3",
      "display_name": "Python 3"
    },
    "language_info": {
      "name": "python"
    }
  },
  "cells": [
    {
      "cell_type": "markdown",
      "metadata": {
        "id": "view-in-github",
        "colab_type": "text"
      },
      "source": [
        "<a href=\"https://colab.research.google.com/github/xDanilog27/Bussiness-Inteligent/blob/main/Reto_1_Modelo_de_Clasificaci%C3%B3_Naive_Bayes.ipynb\" target=\"_parent\"><img src=\"https://colab.research.google.com/assets/colab-badge.svg\" alt=\"Open In Colab\"/></a>"
      ]
    },
    {
      "cell_type": "markdown",
      "source": [
        "**0. Cargar las librerias**"
      ],
      "metadata": {
        "id": "ywTM1oQAS2DU"
      }
    },
    {
      "cell_type": "code",
      "source": [
        "import numpy as np #Posee Funciones Matematicas\n",
        "import pandas as pd #Comunicacion excel\n",
        "from sklearn.metrics import accuracy_score # comparar las predicciones del modelo"
      ],
      "metadata": {
        "id": "kquythViS4sp"
      },
      "execution_count": null,
      "outputs": []
    },
    {
      "cell_type": "markdown",
      "source": [
        "**1. Cargar la base de datos**"
      ],
      "metadata": {
        "id": "G-E924xTS71U"
      }
    },
    {
      "cell_type": "code",
      "source": [
        "nxl='/content/1. BD2_CarCrash_Int.xlsx'\n",
        "XDB= pd.read_excel(nxl,sheet_name=0)\n",
        "XDB.head(10)\n",
        "\n",
        "# Seleccionar datos para el condado de San Francisco (asumiendo que existe una columna 'County')\n",
        "\n",
        "XDB_SF=XDB[XDB['County'] == 'SAN FRANCISCO'] # Filtrar los datos para San Francisco\n",
        "\n",
        "# Mostrar los primeros registros de los datos de San Francisco\n",
        "print(XDB_SF.head(10))\n",
        "\n",
        "# 1. Convertir 'CrashType' a 'category' y asignar códigos numéricos\n",
        "XDB_SF['CrashType'] = pd.Categorical(XDB_SF['CrashType'], categories=sorted(XDB_SF['CrashType'].unique()), ordered=True).codes\n",
        "\n",
        "# 2. Mostrar los datos con la columna 'CrashType' transformada\n",
        "print(XDB_SF.head(10))\n",
        "\n",
        "# Separar variables de entrada (XD) y variable objetivo (yd)\n",
        "XD=XDB_SF[['Weekday', 'ViolCat', 'Daylight', 'Month', 'CrashType', 'ClearWeather']]\n",
        "yd=XDB_SF['Highway']\n"
      ],
      "metadata": {
        "colab": {
          "base_uri": "https://localhost:8080/"
        },
        "id": "kqPDq7oXTA_c",
        "outputId": "d98ce51e-35b6-4ac4-fccd-8135e96be7e1"
      },
      "execution_count": null,
      "outputs": [
        {
          "output_type": "stream",
          "name": "stdout",
          "text": [
            "        ID         County           City  Weekday  Severity  ViolCat  \\\n",
            "907    908  SAN FRANCISCO  SAN FRANCISCO        7         1        1   \n",
            "1580  1581  SAN FRANCISCO  SAN FRANCISCO        2         0        9   \n",
            "1581  1582  SAN FRANCISCO  SAN FRANCISCO        7         0        3   \n",
            "1586  1587  SAN FRANCISCO  SAN FRANCISCO        7         0        3   \n",
            "1587  1588  SAN FRANCISCO  SAN FRANCISCO        3         0        3   \n",
            "1588  1589  SAN FRANCISCO  SAN FRANCISCO        7         0       12   \n",
            "1607  1608  SAN FRANCISCO  SAN FRANCISCO        7         0       10   \n",
            "1616  1617  SAN FRANCISCO  SAN FRANCISCO        2         0        9   \n",
            "1617  1618  SAN FRANCISCO  SAN FRANCISCO        6         0       11   \n",
            "1621  1622  SAN FRANCISCO  SAN FRANCISCO        7         0        9   \n",
            "\n",
            "      ClearWeather  Month CrashType  Highway  Daylight  \n",
            "907              1      3         A        1         1  \n",
            "1580             1      2         A        0         0  \n",
            "1581             1      1         A        0         0  \n",
            "1586             1      3         A        0         0  \n",
            "1587             1      3         A        0         0  \n",
            "1588             1      3         A        0         0  \n",
            "1607             1      3         A        0         1  \n",
            "1616             0      3         A        0         0  \n",
            "1617             1      2         A        0         0  \n",
            "1621             1      1         A        0         1  \n",
            "        ID         County           City  Weekday  Severity  ViolCat  \\\n",
            "907    908  SAN FRANCISCO  SAN FRANCISCO        7         1        1   \n",
            "1580  1581  SAN FRANCISCO  SAN FRANCISCO        2         0        9   \n",
            "1581  1582  SAN FRANCISCO  SAN FRANCISCO        7         0        3   \n",
            "1586  1587  SAN FRANCISCO  SAN FRANCISCO        7         0        3   \n",
            "1587  1588  SAN FRANCISCO  SAN FRANCISCO        3         0        3   \n",
            "1588  1589  SAN FRANCISCO  SAN FRANCISCO        7         0       12   \n",
            "1607  1608  SAN FRANCISCO  SAN FRANCISCO        7         0       10   \n",
            "1616  1617  SAN FRANCISCO  SAN FRANCISCO        2         0        9   \n",
            "1617  1618  SAN FRANCISCO  SAN FRANCISCO        6         0       11   \n",
            "1621  1622  SAN FRANCISCO  SAN FRANCISCO        7         0        9   \n",
            "\n",
            "      ClearWeather  Month  CrashType  Highway  Daylight  \n",
            "907              1      3          0        1         1  \n",
            "1580             1      2          0        0         0  \n",
            "1581             1      1          0        0         0  \n",
            "1586             1      3          0        0         0  \n",
            "1587             1      3          0        0         0  \n",
            "1588             1      3          0        0         0  \n",
            "1607             1      3          0        0         1  \n",
            "1616             0      3          0        0         0  \n",
            "1617             1      2          0        0         0  \n",
            "1621             1      1          0        0         1  \n"
          ]
        },
        {
          "output_type": "stream",
          "name": "stderr",
          "text": [
            "<ipython-input-4-5f9c94caf098>:13: SettingWithCopyWarning: \n",
            "A value is trying to be set on a copy of a slice from a DataFrame.\n",
            "Try using .loc[row_indexer,col_indexer] = value instead\n",
            "\n",
            "See the caveats in the documentation: https://pandas.pydata.org/pandas-docs/stable/user_guide/indexing.html#returning-a-view-versus-a-copy\n",
            "  XDB_SF['CrashType'] = pd.Categorical(XDB_SF['CrashType'], categories=sorted(XDB_SF['CrashType'].unique()), ordered=True).codes\n"
          ]
        }
      ]
    },
    {
      "cell_type": "markdown",
      "source": [
        "**2. Implementacion del modelo**"
      ],
      "metadata": {
        "id": "15eJqz1QWhq1"
      }
    },
    {
      "cell_type": "code",
      "source": [
        "from sklearn.naive_bayes import GaussianNB\n",
        "\n",
        "mnb=GaussianNB() #Aloja el Modelo\n",
        "mnb.fit(XD,yd) #Entrena el Modelo\n",
        "\n",
        "#Obtener informacion del modelo\n",
        "u=mnb.theta_ #Media de los datos\n",
        "print(\"La media de los datos es:\\n\",u) #La primera es No Y la Segunda es Si, en base al Highway\n",
        "\n",
        "varianza=mnb.var_ #Varianza de los datos\n",
        "print(\"La varianza de los datos es:\\n\",varianza)\n",
        "\n",
        "sigma=np.sqrt(varianza) #Desviacion Estandar - Se obtiene la desviacion estandar de los ingresos\n",
        "print(\"La desviacion estandar de los datos es:\\n\",sigma)\n",
        "\n",
        "# Limites superior y limite inferior - NO SE SI DEJAR EL 3 o NO PONER NADA.\n",
        "LS=u+sigma\n",
        "LI=u-sigma\n",
        "print(\"El limite superior es:\\n\",LS)\n",
        "print(\"El limite inferior es:\\n\",LI)\n",
        "\n",
        "XDS=[[5,1,1,3,4,0]]\n",
        "ydp=mnb.predict(XDS)\n",
        "print(\"La prediccion es:\\n\",ydp)\n",
        "\n",
        "if ydp==0:\n",
        "  print(\"No hay accidente automovilístico en la autopista\")\n",
        "else:\n",
        "  print(\"Hay accidente automovilístico en la autopista\")\n",
        "\n"
      ],
      "metadata": {
        "colab": {
          "base_uri": "https://localhost:8080/"
        },
        "id": "SoWxGVfTWh7i",
        "outputId": "6c3567b3-7c3c-450b-a27a-93c0b180654f"
      },
      "execution_count": null,
      "outputs": [
        {
          "output_type": "stream",
          "name": "stdout",
          "text": [
            "La media de los datos es:\n",
            " [[3.88417722 7.45696203 0.66265823 4.35189873 3.21772152 0.86265823]\n",
            " [3.9261477  4.1497006  0.62075848 6.69461078 2.27744511 0.79840319]]\n",
            "La varianza de los datos es:\n",
            " [[ 3.80493953 12.40004648  0.22354231  5.49135717  3.5108252   0.11847902]\n",
            " [ 4.06440613  4.67419653  0.2354174  11.84486119  1.11863301  0.16095555]]\n",
            "La desviacion estandar de los datos es:\n",
            " [[1.95062542 3.52136997 0.47280262 2.3433645  1.87371962 0.34420782]\n",
            " [2.01603723 2.16198902 0.48519831 3.44163641 1.05765448 0.40119266]]\n",
            "El limite superior es:\n",
            " [[ 5.83480263 10.978332    1.13546084  6.69526323  5.09144114  1.20686605]\n",
            " [ 5.94218494  6.31168962  1.10595679 10.13624719  3.33509959  1.19959585]]\n",
            "El limite inferior es:\n",
            " [[1.9335518  3.93559205 0.18985561 2.00853424 1.3440019  0.51845041]\n",
            " [1.91011047 1.98771158 0.13556017 3.25297437 1.21979063 0.39721054]]\n",
            "La prediccion es:\n",
            " [0]\n",
            "No hay accidente automovilístico en la autopista\n"
          ]
        },
        {
          "output_type": "stream",
          "name": "stderr",
          "text": [
            "/usr/local/lib/python3.11/dist-packages/sklearn/utils/validation.py:2739: UserWarning: X does not have valid feature names, but GaussianNB was fitted with feature names\n",
            "  warnings.warn(\n"
          ]
        }
      ]
    },
    {
      "cell_type": "code",
      "source": [
        "#1. Numero de datos de la base de datos original\n",
        "total_data = len(XDB)\n",
        "print(f\"Número total de datos de toda la base de datos: {total_data}\")\n",
        "\n",
        "#1. Numero de datos de la base de datos filtrada\n",
        "total_data = len(XDB_SF)\n",
        "print(f\"Número total de datos: {total_data}\")\n",
        "\n",
        "\n",
        "#2.\t¿Cuál es el porcentaje de los datos que hacen parte de cada una de las categorías de clasificación?\n",
        "\n",
        "highway_counts=XDB_SF['Highway'].value_counts()\n",
        "percentage_highway=(highway_counts[1] / total_data) * 100\n",
        "percentage_no_highway=(highway_counts[0] / total_data) * 100\n",
        "print(f\"Porcentaje de accidentes en autopista: {percentage_highway:.2f}%\")\n",
        "print(f\"Porcentaje de accidentes fuera de autopista: {percentage_no_highway:.2f}%\")\n"
      ],
      "metadata": {
        "colab": {
          "base_uri": "https://localhost:8080/"
        },
        "id": "7nCvxUhIBmhY",
        "outputId": "470f2dc6-eac7-4762-ad7e-e1f56db580c6"
      },
      "execution_count": null,
      "outputs": [
        {
          "output_type": "stream",
          "name": "stdout",
          "text": [
            "Número total de datos de toda la base de datos: 112660\n",
            "Número total de datos: 2081\n",
            "Porcentaje de accidentes en autopista: 24.07%\n",
            "Porcentaje de accidentes fuera de autopista: 75.93%\n"
          ]
        }
      ]
    },
    {
      "cell_type": "code",
      "source": [
        "from sklearn.metrics import confusion_matrix\n",
        "#Pronostico\n",
        "ybp2=mnb.predict(XD)\n",
        "cm=confusion_matrix(yd,ybp2) #Crea matriz de confusion\n",
        "print(\"La matriz de confusion es:\\n\", cm)\n",
        "VN=cm[0,0] #Verdaderos negativos\n",
        "VP=cm[1,1] #Verdaderos positivos\n",
        "FN=cm[1,0] #Falsos negativos\n",
        "FP=cm[0,1] #Falsos positivos\n",
        "\n",
        "#6\n",
        "Exactitud=(VP+VN)/(VP+VN+FP+FN)\n",
        "print(\"La exactitud es:\\n\",Exactitud)\n",
        "\n",
        "#7\n",
        "Especificidad=VN/(VN+FP)\n",
        "print(\"La especificidad es:\\n\",Especificidad)\n",
        "\n",
        "#8 y 9\n",
        "print(f\"Verdaderos Negativos: {VN}\")\n",
        "print(f\"Verdaderos Positivos: {VP}\")\n",
        "\n",
        "#10\n",
        "TasaError=(FP+FN)/(VP+VN+FP+FN)\n",
        "print(\"La tasa de error es:\\n\",TasaError)\n",
        "\n",
        "#11\n",
        "Sensibilidad=VP/(VP+FN)\n",
        "print(\"La sensibilidad es:\\n\",Sensibilidad)\n",
        "\n",
        "#12\n",
        "Precision=VP/(VP+FP)\n",
        "print(\"La precición es:\\n\",Precision)\n",
        "\n",
        "#13 5,1,1,3,4,0\n",
        "print(\"La prediccion es:\\n\",ydp)\n",
        "\n",
        "if ydp==0:\n",
        "  print(\"No hay accidente automovilístico en la autopista\")\n",
        "else:\n",
        "  print(\"Hay accidente automovilístico en la autopista\")\n",
        "\n"
      ],
      "metadata": {
        "colab": {
          "base_uri": "https://localhost:8080/"
        },
        "id": "VDNJW0JyH3OE",
        "outputId": "9bccd182-6951-4b63-ccc5-b8717ab1861e"
      },
      "execution_count": null,
      "outputs": [
        {
          "output_type": "stream",
          "name": "stdout",
          "text": [
            "La matriz de confusion es:\n",
            " [[1365  215]\n",
            " [ 224  277]]\n",
            "La exactitud es:\n",
            " 0.7890437289764536\n",
            "La especificidad es:\n",
            " 0.8639240506329114\n",
            "Verdaderos Negativos: 1365\n",
            "Verdaderos Positivos: 277\n",
            "La tasa de error es:\n",
            " 0.21095627102354636\n",
            "La sensibilidad es:\n",
            " 0.5528942115768463\n",
            "La precición es:\n",
            " 0.5630081300813008\n",
            "La prediccion es:\n",
            " [0]\n",
            "No hay accidente automovilístico en la autopista\n"
          ]
        }
      ]
    },
    {
      "cell_type": "markdown",
      "source": [
        "**Análisis de los resultados**\n",
        "\n",
        "El análisis se centra en la predicción de accidentes automovilísticos en autopistas, utilizando un modelo Naive Bayes Gaussiano y datos solo del condado de San Francisco. La base de datos original fue filtrada, resultando en un conjunto de 2081 accidentes. Un paso crucial durante el proceso fue la conversión de la variable categórica \"CrashType\" a una representación numérica ordinal, necesaria para el modelo.\n",
        "\n",
        "La variable objetivo, \"Highway\" (accidente en autopista o no), presenta un desbalance significativo: solo el 24.07% de los accidentes ocurrieron en autopistas, contrastando con el 75.93% que no\n",
        "\n",
        "En cuanto al rendimiento, el modelo alcanza una exactitud del 78.9%, clasificando correctamente casi el 8 de cada 10 accidentes. Sin embargo, esta cifra esconde un rendimiento desigual en las distintas categorías. La especificidad, que mide la capacidad para identificar correctamente los accidentes fuera de la autopista, es alta, alcanzando el 86.4%. Esto sugiere que el modelo es confiable para predecir cuándo un accidente no ocurrió en una autopista.\n",
        "\n",
        "la sensibilidad es considerablemente menor, del 55.3%. Esto indica que el modelo tiene dificultades para predecir correctamente los accidentes que sí ocurren en autopistas. La precisión, que mide la proporción de accidentes clasificados como ocurridos en autopistas que realmente lo fueron, se sitúa en el 56.3%.\n",
        "\n",
        "El análisis de la matriz de confusión revela que el modelo clasifica correctamente 1365 accidentes como no ocurridos en autopistas (verdaderos negativos) y 277 como ocurridos en autopistas (verdaderos positivos). Sin embargo, también comete errores, clasificando 224 accidentes ocurridos en autopistas como no ocurridos (falsos negativos) y 215 accidentes no ocurridos en autopistas como ocurridos (falsos positivos).\n",
        "\n",
        "Finalmente, el modelo predice que un accidente con las características [5, 1, 1, 3, 4, 0], no ocurrió en una autopista.\n",
        "\n"
      ],
      "metadata": {
        "id": "d3LoxE1u4SkA"
      }
    },
    {
      "cell_type": "code",
      "source": [],
      "metadata": {
        "id": "yAdyeJPBfqoF"
      },
      "execution_count": null,
      "outputs": []
    }
  ]
}