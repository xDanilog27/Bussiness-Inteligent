{
  "nbformat": 4,
  "nbformat_minor": 0,
  "metadata": {
    "colab": {
      "provenance": [],
      "authorship_tag": "ABX9TyO0F3/g1LvzGssQSDef7vwq",
      "include_colab_link": true
    },
    "kernelspec": {
      "name": "python3",
      "display_name": "Python 3"
    },
    "language_info": {
      "name": "python"
    }
  },
  "cells": [
    {
      "cell_type": "markdown",
      "metadata": {
        "id": "view-in-github",
        "colab_type": "text"
      },
      "source": [
        "<a href=\"https://colab.research.google.com/github/xDanilog27/Bussiness-Inteligent/blob/main/Reto_2_%C3%81rboles_de_Decisi%C3%B3n_(Aprendizaje_Supervisado).ipynb\" target=\"_parent\"><img src=\"https://colab.research.google.com/assets/colab-badge.svg\" alt=\"Open In Colab\"/></a>"
      ]
    },
    {
      "cell_type": "markdown",
      "source": [
        "**Reto 2 - Árboles de Decisión (Aprendizaje Supervisado)**"
      ],
      "metadata": {
        "id": "zBR2zZ41yEIe"
      }
    },
    {
      "cell_type": "markdown",
      "source": [
        "0. Cargar Librerias"
      ],
      "metadata": {
        "id": "WFqCmUGgz6p-"
      }
    },
    {
      "cell_type": "code",
      "source": [
        "# Librerias Cientificas\n",
        "import pandas as pd\n",
        "import numpy as np\n",
        "\n",
        "# Librerias Arbol\n",
        "from sklearn.tree import DecisionTreeClassifier\n",
        "from sklearn.metrics import confusion_matrix"
      ],
      "metadata": {
        "id": "CnSo_a0D0Ati"
      },
      "execution_count": null,
      "outputs": []
    },
    {
      "cell_type": "markdown",
      "source": [
        "1. Cargar los Datos"
      ],
      "metadata": {
        "id": "nEZRFhup0EwF"
      }
    },
    {
      "cell_type": "code",
      "source": [
        "nxl=\"/content/2. TechSalesReport_Int_L.xlsx\"\n",
        "XDB=pd.read_excel(nxl,sheet_name=0) #BASE DE DATOS\n",
        "\n",
        "# Mapear 'Hardware' a 0 y 'Software' a 1 en la columna 'Business'\n",
        "XDB['Business'] = XDB['Business'].map({'Hardware': 0, 'Software': 1})\n",
        "\n",
        "# Mapear 'Yes' a 1 y 'No' a 0 en la columna 'College'\n",
        "XDB['College'] = XDB['College'].map({'Yes': 1, 'No': 0})\n",
        "\n",
        "# Seleccionar las variables\n",
        "XD=XDB[['Business','Age','Female','Years','Certificates','Feedback','Salary','NPS']]\n",
        "yd=XDB[['College']]\n",
        "\n"
      ],
      "metadata": {
        "id": "4GCQV2dD0Hz0",
        "colab": {
          "base_uri": "https://localhost:8080/",
          "height": 211
        },
        "outputId": "c3d41c1f-d0de-4804-b1f1-9652c8cb01fb"
      },
      "execution_count": null,
      "outputs": [
        {
          "output_type": "error",
          "ename": "NameError",
          "evalue": "name 'pd' is not defined",
          "traceback": [
            "\u001b[0;31m---------------------------------------------------------------------------\u001b[0m",
            "\u001b[0;31mNameError\u001b[0m                                 Traceback (most recent call last)",
            "\u001b[0;32m<ipython-input-1-ab44b1b1787c>\u001b[0m in \u001b[0;36m<cell line: 0>\u001b[0;34m()\u001b[0m\n\u001b[1;32m      1\u001b[0m \u001b[0mnxl\u001b[0m\u001b[0;34m=\u001b[0m\u001b[0;34m\"/content/2. TechSalesReport_Int_L.xlsx\"\u001b[0m\u001b[0;34m\u001b[0m\u001b[0;34m\u001b[0m\u001b[0m\n\u001b[0;32m----> 2\u001b[0;31m \u001b[0mXDB\u001b[0m\u001b[0;34m=\u001b[0m\u001b[0mpd\u001b[0m\u001b[0;34m.\u001b[0m\u001b[0mread_excel\u001b[0m\u001b[0;34m(\u001b[0m\u001b[0mnxl\u001b[0m\u001b[0;34m,\u001b[0m\u001b[0msheet_name\u001b[0m\u001b[0;34m=\u001b[0m\u001b[0;36m0\u001b[0m\u001b[0;34m)\u001b[0m \u001b[0;31m#BASE DE DATOS\u001b[0m\u001b[0;34m\u001b[0m\u001b[0;34m\u001b[0m\u001b[0m\n\u001b[0m\u001b[1;32m      3\u001b[0m \u001b[0;34m\u001b[0m\u001b[0m\n\u001b[1;32m      4\u001b[0m \u001b[0;31m# Mapear 'Hardware' a 0 y 'Software' a 1 en la columna 'Business'\u001b[0m\u001b[0;34m\u001b[0m\u001b[0;34m\u001b[0m\u001b[0m\n\u001b[1;32m      5\u001b[0m \u001b[0mXDB\u001b[0m\u001b[0;34m[\u001b[0m\u001b[0;34m'Business'\u001b[0m\u001b[0;34m]\u001b[0m \u001b[0;34m=\u001b[0m \u001b[0mXDB\u001b[0m\u001b[0;34m[\u001b[0m\u001b[0;34m'Business'\u001b[0m\u001b[0;34m]\u001b[0m\u001b[0;34m.\u001b[0m\u001b[0mmap\u001b[0m\u001b[0;34m(\u001b[0m\u001b[0;34m{\u001b[0m\u001b[0;34m'Hardware'\u001b[0m\u001b[0;34m:\u001b[0m \u001b[0;36m0\u001b[0m\u001b[0;34m,\u001b[0m \u001b[0;34m'Software'\u001b[0m\u001b[0;34m:\u001b[0m \u001b[0;36m1\u001b[0m\u001b[0;34m}\u001b[0m\u001b[0;34m)\u001b[0m\u001b[0;34m\u001b[0m\u001b[0;34m\u001b[0m\u001b[0m\n",
            "\u001b[0;31mNameError\u001b[0m: name 'pd' is not defined"
          ]
        }
      ]
    },
    {
      "cell_type": "markdown",
      "source": [
        "Descripción de las Variables:\n",
        "\n",
        "De acuerdo con la base de datos de TechSalesReport_Int_L, esta posee un total de 21990 dato totales, Divididos en 4470 no poseen título universitario y 17518 poseen título universitario. Cada uno de los empleados estará descrito en función de 8 variables:\n",
        "•\tYears: Representa el número de años que un empleado ha trabajado en la empresa.\n",
        "•\tCollege (Variable Objetivo): Indica si el empleado posee un título universitario de cuatro años (Sí o No).\n",
        "•\tCertificates: Representa el número de certificaciones profesionales relevantes que ha obtenido cada empleado.\n",
        "•\tFeedback: Representa el puntaje de retroalimentación promedio que cada empleado recibe de sus compañeros y supervisor en la evaluación anual de 360 grados.\n",
        "•\tSalary: Representa el sueldo base anual de cada empleado.\n",
        "•\tNPS (Net Promoter Score): Es un indicador clave de la satisfacción y lealtad del cliente.\n",
        "•\tBusiness: Representa el tipo de negocio en el que trabaja el empleado, Hardware o Software. Se codificará como 0 para \"Hardware\" y 1 para \"Software\".\n",
        "•\tAge: Representa la edad del empleado.\n",
        "•\tFemale: Representa el genero del empleado.\n"
      ],
      "metadata": {
        "id": "oA77MZreAgKj"
      }
    },
    {
      "cell_type": "markdown",
      "source": [
        "2. Implementacion del Modelo\n",
        "\n",
        "\n",
        "\n"
      ],
      "metadata": {
        "id": "NWDKMidS42EB"
      }
    },
    {
      "cell_type": "code",
      "source": [
        "mar=DecisionTreeClassifier(criterion='gini', max_depth=4) #mar= Modelo de Arbol -- Max_Depth=maximo 4 porque mas es muy largo\n",
        "mar.fit(XD,yd) # Establecer una relacion de los datos de entrada y la salida\n",
        "\n",
        "# Se procede con la grafica\n",
        "from pydotplus import graph_from_dot_data # Crea la grafica\n",
        "from sklearn.tree import export_graphviz # Exporta a PNG, JPEG y TIFF\n",
        "\n",
        "ve=['Business','Age','Female','Years','Certificates','Feedback','Salary','NPS'] #Nombre para el arbol - ve= Variables de entrada\n",
        "dot_data=export_graphviz(mar, feature_names=ve) # Crear el grafico\n",
        "graph=graph_from_dot_data(dot_data)\n",
        "graph.write_png('arbol.png')"
      ],
      "metadata": {
        "colab": {
          "base_uri": "https://localhost:8080/"
        },
        "id": "ThnDTwzZ5CSQ",
        "outputId": "7701d8c3-a8f2-4ce1-9ef0-07b56444b3b5"
      },
      "execution_count": null,
      "outputs": [
        {
          "output_type": "execute_result",
          "data": {
            "text/plain": [
              "True"
            ]
          },
          "metadata": {},
          "execution_count": 3
        }
      ]
    },
    {
      "cell_type": "markdown",
      "source": [
        "3. Pronóstico del título Universitario para las personas agrupadas en la base de datos de pronóstico\n",
        "\n"
      ],
      "metadata": {
        "id": "J6Ws6sfIQQYL"
      }
    },
    {
      "cell_type": "code",
      "source": [
        "XDB0 = pd.read_excel(nxl, sheet_name=1)\n",
        "XDB0.head(100)\n",
        "\n",
        "XDB0['Business'] = XDB0['Business'].map({'Hardware': 0, 'Software': 1})\n",
        "\n",
        "# Crea la base de datos a pronosticar\n",
        "XD0 = XDB0[['Business', 'Age', 'Female', 'Years', 'Certificates', 'Feedback', 'Salary', 'NPS']]\n",
        "yd0 = XDB0[['College']]\n",
        "\n",
        "# No es necesario convertir a NumPy si solo se usa para predicción\n",
        "# XD0 = np.array(XD0)\n",
        "# XD0 = XD0[filas]  # Eliminado porque 'filas' no está definido\n",
        "\n",
        "# Le calculamos la preaprobación a los solicitantes\n",
        "y_pred = mar.predict(XD0)\n",
        "print(y_pred)\n",
        "\n",
        "# Se crea el informe en Excel\n",
        "df = pd.DataFrame(np.column_stack((XD0, y_pred)))  # No se necesita filas, ya que se usan todas las filas.\n",
        "df.columns = ['Business', 'Age', 'Female', 'Years', 'Certificates', 'Feedback', 'Salary', 'NPS', 'College']\n",
        "df.to_excel('Predicciones.xlsx')"
      ],
      "metadata": {
        "colab": {
          "base_uri": "https://localhost:8080/"
        },
        "id": "o8vFd3ef57rg",
        "outputId": "6507952b-f9d2-4dd8-9e74-0e936d6d1947"
      },
      "execution_count": null,
      "outputs": [
        {
          "output_type": "stream",
          "name": "stdout",
          "text": [
            "[1 1 1 1 1 1 1 1 1 1 1 1 1 1 1 1]\n"
          ]
        }
      ]
    },
    {
      "cell_type": "code",
      "source": [
        "ydp=mar.predict(XD) #Pronostio sobre la base de datos original\n",
        "cm=confusion_matrix(yd,ydp) # Matriz de confusion\n",
        "print(\"La matriz de consion es:\\n\",cm)\n",
        "\n",
        "VN=cm[0,0]\n",
        "FP=cm[0,1]\n",
        "FN=cm[1,0]\n",
        "VP=cm[1,1]\n",
        "\n",
        "Exactitutud=(VP+VN)/(VP+VN+FP+FN)\n",
        "print(\"La exactitud es:\",Exactitutud*100)\n",
        "\n",
        "Sensibilidad=VP/(VP+FN)\n",
        "print(\"La sensibilidad es:\",Sensibilidad*100)\n",
        "\n",
        "Especificidad=VN/(VN+FP)\n",
        "print(\"La especificidad es:\",Especificidad*100)\n",
        "\n",
        "Precision=VP/(VP+FP)\n",
        "print(\"La precision es:\",Precision*100)\n",
        "\n",
        "TasaError=1-Exactitutud\n",
        "print(\"La tasa de error es:\",TasaError*100)\n",
        "\n",
        "PrediccionNegativa=VN/(VN+FN)\n",
        "print(\"La prediccion negativa es:\",PrediccionNegativa*100)\n",
        "\n",
        "PrediccionPositiva=VP/(VP+FP)\n",
        "print(\"La prediccion positiva es:\",PrediccionPositiva*100)\n"
      ],
      "metadata": {
        "id": "NoWSVu9KYf-U",
        "outputId": "b48a61fb-e7b8-49ba-964a-576e0debf5ee",
        "colab": {
          "base_uri": "https://localhost:8080/"
        }
      },
      "execution_count": null,
      "outputs": [
        {
          "output_type": "stream",
          "name": "stdout",
          "text": [
            "La matriz de consion es:\n",
            " [[  114  4356]\n",
            " [   69 17451]]\n",
            "La exactitud es: 79.87721691678036\n",
            "La sensibilidad es: 99.60616438356165\n",
            "La especificidad es: 2.5503355704697985\n",
            "La precision es: 80.02476269087909\n",
            "La tasa de error es: 20.12278308321964\n",
            "La prediccion negativa es: 62.295081967213115\n",
            "La prediccion positiva es: 80.02476269087909\n"
          ]
        }
      ]
    },
    {
      "cell_type": "markdown",
      "source": [
        "**Análisis de Resultados**\n",
        "La matriz de confusión revela predominancia de los valores Verdaderos Positivos (VP) (17451) y Falsos Positivos (FP) (4356), lo que indica que el modelo tiende a clasificar la mayoría de las instancias como pertenecientes a la clase positiva que son las personas con título universitario.\n",
        "\n",
        "El modelo logró alcanzar valores superiores al 75% en promedio para los índices de exactitud (79.88%), sensibilidad (99.61%), precisión (80.02%), y especificidad (2.55%). Es importante notar que la especificidad, aunque incluida, es extremadamente baja, lo que indica que el modelo tiene dificultades para identificar correctamente a las personas sin título universitario. Esto es un reflejo directo del desbalance de clases y del sesgo del modelo hacia la predicción de la clase mayoritaria."
      ],
      "metadata": {
        "id": "wJa9wRq6Bb9f"
      }
    },
    {
      "cell_type": "code",
      "source": [],
      "metadata": {
        "id": "QH8JEs7tCBjN"
      },
      "execution_count": null,
      "outputs": []
    }
  ]
}